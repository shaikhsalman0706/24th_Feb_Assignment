{
 "cells": [
  {
   "cell_type": "markdown",
   "id": "bc50d60a",
   "metadata": {},
   "source": [
    "### Q1. List any five functions of the pandas library with execution."
   ]
  },
  {
   "cell_type": "markdown",
   "id": "fac51d0e",
   "metadata": {},
   "source": [
    "#### Five commonly used functions of the pandas library with their execution:\n",
    "\n",
    "###### pandas.read_csv(): This function reads a CSV file and creates a DataFrame object."
   ]
  },
  {
   "cell_type": "code",
   "execution_count": 2,
   "id": "ee20fc08",
   "metadata": {},
   "outputs": [
    {
     "name": "stdout",
     "output_type": "stream",
     "text": [
      "       Category                                             Resume\n",
      "0  Data Science  Skills * Programming Languages: Python (pandas...\n",
      "1  Data Science  Education Details \\r\\nMay 2013 to May 2017 B.E...\n",
      "2  Data Science  Areas of Interest Deep Learning, Control Syste...\n",
      "3  Data Science  Skills â¢ R â¢ Python â¢ SAP HANA â¢ Table...\n",
      "4  Data Science  Education Details \\r\\n MCA   YMCAUST,  Faridab...\n"
     ]
    }
   ],
   "source": [
    "import pandas as pd\n",
    "\n",
    "# Read a CSV file\n",
    "df = pd.read_csv('UpdatedResumeDataSet.csv')\n",
    "\n",
    "# Display the first five rows of the DataFrame\n",
    "print(df.head())"
   ]
  },
  {
   "cell_type": "markdown",
   "id": "22bd4ea4",
   "metadata": {},
   "source": [
    "###### pandas.DataFrame(): This function creates a DataFrame object from a Python dictionary."
   ]
  },
  {
   "cell_type": "code",
   "execution_count": 3,
   "id": "9fedbd7a",
   "metadata": {},
   "outputs": [
    {
     "name": "stdout",
     "output_type": "stream",
     "text": [
      "    Name  Age    Country\n",
      "0   John   30        USA\n",
      "1  Alice   25     Canada\n",
      "2    Bob   35  Australia\n"
     ]
    }
   ],
   "source": [
    "import pandas as pd\n",
    "\n",
    "# Create a dictionary\n",
    "data = {'Name': ['John', 'Alice', 'Bob'],\n",
    "        'Age': [30, 25, 35],\n",
    "        'Country': ['USA', 'Canada', 'Australia']}\n",
    "\n",
    "# Create a DataFrame from the dictionary\n",
    "df = pd.DataFrame(data)\n",
    "\n",
    "# Display the DataFrame\n",
    "print(df)"
   ]
  },
  {
   "cell_type": "markdown",
   "id": "13ac746a",
   "metadata": {},
   "source": [
    "###### pandas.Series(): This function creates a Series object from a Python list."
   ]
  },
  {
   "cell_type": "code",
   "execution_count": 4,
   "id": "7a5c83de",
   "metadata": {},
   "outputs": [
    {
     "name": "stdout",
     "output_type": "stream",
     "text": [
      "0    10\n",
      "1    20\n",
      "2    30\n",
      "3    40\n",
      "4    50\n",
      "dtype: int64\n"
     ]
    }
   ],
   "source": [
    "import pandas as pd\n",
    "\n",
    "# Create a list\n",
    "data = [10, 20, 30, 40, 50]\n",
    "\n",
    "# Create a Series from the list\n",
    "s = pd.Series(data)\n",
    "\n",
    "# Display the Series\n",
    "print(s)"
   ]
  },
  {
   "cell_type": "markdown",
   "id": "26d3919c",
   "metadata": {},
   "source": [
    "###### pandas.concat(): This function concatenates two or more DataFrames along a specified axis."
   ]
  },
  {
   "cell_type": "code",
   "execution_count": 5,
   "id": "435f8290",
   "metadata": {},
   "outputs": [
    {
     "name": "stdout",
     "output_type": "stream",
     "text": [
      "   A  B\n",
      "0  1  4\n",
      "1  2  5\n",
      "2  3  6\n",
      "0  4  7\n",
      "1  5  8\n",
      "2  6  9\n"
     ]
    }
   ],
   "source": [
    "import pandas as pd\n",
    "\n",
    "# Create two DataFrames\n",
    "df1 = pd.DataFrame({'A': [1, 2, 3], 'B': [4, 5, 6]})\n",
    "df2 = pd.DataFrame({'A': [4, 5, 6], 'B': [7, 8, 9]})\n",
    "\n",
    "# Concatenate the DataFrames along the rows\n",
    "df = pd.concat([df1, df2], axis=0)\n",
    "\n",
    "# Display the concatenated DataFrame\n",
    "print(df)"
   ]
  },
  {
   "cell_type": "markdown",
   "id": "85044ab6",
   "metadata": {},
   "source": [
    "###### pandas.DataFrame.drop(): This function drops one or more specified columns or rows from a DataFrame."
   ]
  },
  {
   "cell_type": "code",
   "execution_count": 6,
   "id": "9ae2c17d",
   "metadata": {},
   "outputs": [
    {
     "name": "stdout",
     "output_type": "stream",
     "text": [
      "   A  C\n",
      "0  1  7\n",
      "1  2  8\n",
      "2  3  9\n"
     ]
    }
   ],
   "source": [
    "import pandas as pd\n",
    "\n",
    "# Create a DataFrame\n",
    "df = pd.DataFrame({'A': [1, 2, 3], 'B': [4, 5, 6], 'C': [7, 8, 9]})\n",
    "\n",
    "# Drop the 'B' column\n",
    "df = df.drop('B', axis=1)\n",
    "\n",
    "# Display the DataFrame\n",
    "print(df)"
   ]
  },
  {
   "cell_type": "markdown",
   "id": "4699e9b1",
   "metadata": {},
   "source": [
    "### Q2. Given a Pandas DataFrame df with columns 'A', 'B', and 'C', write a Python function to re-index the DataFrame with a new index that starts from 1 and increments by 2 for each row."
   ]
  },
  {
   "cell_type": "code",
   "execution_count": 10,
   "id": "eb877aa1",
   "metadata": {},
   "outputs": [],
   "source": [
    "import pandas as pd\n",
    "\n",
    "def reindex_df(df):\n",
    "    # Reset the index of the DataFrame to start from 0\n",
    "    df.reset_index(drop=True, inplace=True)\n",
    "    # Set the new index to start from 1 and increment by 2 for each row\n",
    "    df.index = pd.RangeIndex(start=1, stop=2*len(df), step=2)\n",
    "    return df"
   ]
  },
  {
   "cell_type": "code",
   "execution_count": 11,
   "id": "c1f4f597",
   "metadata": {},
   "outputs": [
    {
     "data": {
      "text/html": [
       "<div>\n",
       "<style scoped>\n",
       "    .dataframe tbody tr th:only-of-type {\n",
       "        vertical-align: middle;\n",
       "    }\n",
       "\n",
       "    .dataframe tbody tr th {\n",
       "        vertical-align: top;\n",
       "    }\n",
       "\n",
       "    .dataframe thead th {\n",
       "        text-align: right;\n",
       "    }\n",
       "</style>\n",
       "<table border=\"1\" class=\"dataframe\">\n",
       "  <thead>\n",
       "    <tr style=\"text-align: right;\">\n",
       "      <th></th>\n",
       "      <th>A</th>\n",
       "      <th>B</th>\n",
       "      <th>C</th>\n",
       "    </tr>\n",
       "  </thead>\n",
       "  <tbody>\n",
       "    <tr>\n",
       "      <th>1</th>\n",
       "      <td>1</td>\n",
       "      <td>4</td>\n",
       "      <td>7</td>\n",
       "    </tr>\n",
       "    <tr>\n",
       "      <th>3</th>\n",
       "      <td>2</td>\n",
       "      <td>5</td>\n",
       "      <td>8</td>\n",
       "    </tr>\n",
       "    <tr>\n",
       "      <th>5</th>\n",
       "      <td>3</td>\n",
       "      <td>6</td>\n",
       "      <td>9</td>\n",
       "    </tr>\n",
       "  </tbody>\n",
       "</table>\n",
       "</div>"
      ],
      "text/plain": [
       "   A  B  C\n",
       "1  1  4  7\n",
       "3  2  5  8\n",
       "5  3  6  9"
      ]
     },
     "execution_count": 11,
     "metadata": {},
     "output_type": "execute_result"
    }
   ],
   "source": [
    "df = pd.DataFrame({'A': [1, 2, 3], 'B': [4, 5, 6], 'C': [7, 8, 9]})\n",
    "reindex_df(df)"
   ]
  },
  {
   "cell_type": "markdown",
   "id": "165aba8b",
   "metadata": {},
   "source": [
    "### Q3. You have a Pandas DataFrame df with a column named 'Values'. Write a Python function that iterates over the DataFrame and calculates the sum of the first three values in the 'Values' column. The function should print the sum to the console.\n",
    "### For example, if the 'Values' column of df contains the values [10, 20, 30, 40, 50], your function should calculate and print the sum of the first three values, which is 60."
   ]
  },
  {
   "cell_type": "code",
   "execution_count": 15,
   "id": "7bd13578",
   "metadata": {},
   "outputs": [],
   "source": [
    "import pandas as pd\n",
    "\n",
    "def sum_first_three_values(df):\n",
    "\n",
    "    # Get the first three values of the 'Values' column\n",
    "    first_three_values = df['Values'].iloc[:3]\n",
    "    # Calculate the sum of the first three values\n",
    "    sum_first_three = sum(first_three_values)\n",
    "    # Print the sum to the console\n",
    "    print(f\"The sum of the first three values is: {sum_first_three}\")"
   ]
  },
  {
   "cell_type": "code",
   "execution_count": 23,
   "id": "048529c5",
   "metadata": {},
   "outputs": [],
   "source": [
    "data = {'Name': ['John', 'Alice', 'Bob', 'Salman', 'Shaikh'],\n",
    "        'Values': [10, 20, 30, 40, 50],\n",
    "        'Country': ['USA', 'Canada', 'Australia','India','Germany']}\n",
    "df1 = pd.DataFrame(data)"
   ]
  },
  {
   "cell_type": "code",
   "execution_count": 24,
   "id": "22807c71",
   "metadata": {},
   "outputs": [
    {
     "name": "stdout",
     "output_type": "stream",
     "text": [
      "The sum of the first three values is: 60\n"
     ]
    }
   ],
   "source": [
    "sum_first_three_values(df1)"
   ]
  },
  {
   "cell_type": "markdown",
   "id": "5e190665",
   "metadata": {},
   "source": [
    "### Q4. Given a Pandas DataFrame df with a column 'Text', write a Python function to create a new column 'Word_Count' that contains the number of words in each row of the 'Text' column."
   ]
  },
  {
   "cell_type": "code",
   "execution_count": 25,
   "id": "1276d2f6",
   "metadata": {},
   "outputs": [],
   "source": [
    "import pandas as pd\n",
    "\n",
    "def add_word_count_column(df):\n",
    "    # Split the text in the 'Text' column into words and count the number of words\n",
    "    df['Word_Count'] = df['Text'].apply(lambda x: len(str(x).split(\" \")))\n",
    "    return df"
   ]
  },
  {
   "cell_type": "code",
   "execution_count": 31,
   "id": "aa6abd69",
   "metadata": {},
   "outputs": [],
   "source": [
    "data = {'Name': ['John', 'Alice', 'Bob', 'Salman', 'Shaikh'],\n",
    "        'Values': [10, 20, 30, 40, 50],\n",
    "        'Text': ['United States of America', 'Canada', 'Great Britain','Republic of India','Germany']}\n",
    "df2 = pd.DataFrame(data)"
   ]
  },
  {
   "cell_type": "code",
   "execution_count": 32,
   "id": "2a0a431b",
   "metadata": {},
   "outputs": [
    {
     "data": {
      "text/html": [
       "<div>\n",
       "<style scoped>\n",
       "    .dataframe tbody tr th:only-of-type {\n",
       "        vertical-align: middle;\n",
       "    }\n",
       "\n",
       "    .dataframe tbody tr th {\n",
       "        vertical-align: top;\n",
       "    }\n",
       "\n",
       "    .dataframe thead th {\n",
       "        text-align: right;\n",
       "    }\n",
       "</style>\n",
       "<table border=\"1\" class=\"dataframe\">\n",
       "  <thead>\n",
       "    <tr style=\"text-align: right;\">\n",
       "      <th></th>\n",
       "      <th>Name</th>\n",
       "      <th>Values</th>\n",
       "      <th>Text</th>\n",
       "      <th>Word_Count</th>\n",
       "    </tr>\n",
       "  </thead>\n",
       "  <tbody>\n",
       "    <tr>\n",
       "      <th>0</th>\n",
       "      <td>John</td>\n",
       "      <td>10</td>\n",
       "      <td>United States of America</td>\n",
       "      <td>4</td>\n",
       "    </tr>\n",
       "    <tr>\n",
       "      <th>1</th>\n",
       "      <td>Alice</td>\n",
       "      <td>20</td>\n",
       "      <td>Canada</td>\n",
       "      <td>1</td>\n",
       "    </tr>\n",
       "    <tr>\n",
       "      <th>2</th>\n",
       "      <td>Bob</td>\n",
       "      <td>30</td>\n",
       "      <td>Great Britain</td>\n",
       "      <td>2</td>\n",
       "    </tr>\n",
       "    <tr>\n",
       "      <th>3</th>\n",
       "      <td>Salman</td>\n",
       "      <td>40</td>\n",
       "      <td>Republic of India</td>\n",
       "      <td>3</td>\n",
       "    </tr>\n",
       "    <tr>\n",
       "      <th>4</th>\n",
       "      <td>Shaikh</td>\n",
       "      <td>50</td>\n",
       "      <td>Germany</td>\n",
       "      <td>1</td>\n",
       "    </tr>\n",
       "  </tbody>\n",
       "</table>\n",
       "</div>"
      ],
      "text/plain": [
       "     Name  Values                      Text  Word_Count\n",
       "0    John      10  United States of America           4\n",
       "1   Alice      20                    Canada           1\n",
       "2     Bob      30             Great Britain           2\n",
       "3  Salman      40         Republic of India           3\n",
       "4  Shaikh      50                   Germany           1"
      ]
     },
     "execution_count": 32,
     "metadata": {},
     "output_type": "execute_result"
    }
   ],
   "source": [
    "add_word_count_column(df2)"
   ]
  },
  {
   "cell_type": "markdown",
   "id": "7eef78b6",
   "metadata": {},
   "source": [
    "### Q5. How are DataFrame.size() and DataFrame.shape() different?"
   ]
  },
  {
   "cell_type": "markdown",
   "id": "b11ebd1e",
   "metadata": {},
   "source": [
    "#### Both DataFrame.size and DataFrame.shape are attributes of a Pandas DataFrame that provide information about the size of the DataFrame, but they are different in the following ways:\n",
    "\n",
    "#### DataFrame.size returns the total number of elements in the DataFrame, which is equal to the product of the number of rows and the number of columns. In other words, DataFrame.size gives you the total number of cells in the DataFrame.\n",
    "\n",
    "#### DataFrame.shape returns a tuple that contains the number of rows and the number of columns in the DataFrame, respectively. In other words, DataFrame.shape gives you the dimensions of the DataFrame."
   ]
  },
  {
   "cell_type": "code",
   "execution_count": 33,
   "id": "54340ca3",
   "metadata": {},
   "outputs": [
    {
     "name": "stdout",
     "output_type": "stream",
     "text": [
      "Size of the DataFrame: 6\n",
      "Shape of the DataFrame: (3, 2)\n"
     ]
    }
   ],
   "source": [
    "import pandas as pd\n",
    "\n",
    "# Create a DataFrame with 3 rows and 2 columns\n",
    "data = {'A': [1, 2, 3], 'B': [4, 5, 6]}\n",
    "df = pd.DataFrame(data)\n",
    "\n",
    "# Get the size of the DataFrame\n",
    "df_size = df.size\n",
    "\n",
    "# Get the shape of the DataFrame\n",
    "df_shape = df.shape\n",
    "\n",
    "print(f\"Size of the DataFrame: {df_size}\")\n",
    "print(f\"Shape of the DataFrame: {df_shape}\")"
   ]
  },
  {
   "cell_type": "markdown",
   "id": "64fc3d7a",
   "metadata": {},
   "source": [
    "### Q6. Which function of pandas do we use to read an excel file?"
   ]
  },
  {
   "cell_type": "markdown",
   "id": "328b7627",
   "metadata": {},
   "source": [
    "#### To read an Excel file in pandas, we can use the read_excel() function."
   ]
  },
  {
   "cell_type": "code",
   "execution_count": 36,
   "id": "892a3084",
   "metadata": {},
   "outputs": [
    {
     "name": "stdout",
     "output_type": "stream",
     "text": [
      "   0 First Name  Last Name  Gender        Country  Age        Date    Id\n",
      "0  1      Dulce      Abril  Female  United States   32  15/10/2017  1562\n",
      "1  2       Mara  Hashimoto  Female  Great Britain   25  16/08/2016  1582\n",
      "2  3     Philip       Gent    Male         France   36  21/05/2015  2587\n",
      "3  4   Kathleen     Hanner  Female  United States   25  15/10/2017  3549\n",
      "4  5    Nereida    Magwood  Female  United States   58  16/08/2016  2468\n"
     ]
    }
   ],
   "source": [
    "import pandas as pd\n",
    "\n",
    "# Read an Excel file named 'data.xlsx' into a pandas DataFrame\n",
    "df = pd.read_excel('file_example.xls')\n",
    "\n",
    "# Print the DataFrame\n",
    "print(df.head())"
   ]
  },
  {
   "cell_type": "markdown",
   "id": "58101032",
   "metadata": {},
   "source": [
    "### Q7. You have a Pandas DataFrame df that contains a column named 'Email' that contains email addresses in the format 'username@domain.com'. Write a Python function that creates a new column= 'Username' in df that contains only the username part of each email address.\n",
    "#### The username is the part of the email address that appears before the '@' symbol. For example, if the email address is 'john.doe@example.com', the 'Username' column should contain 'john.doe'. Your function should extract the username from each email address and store it in the new 'Username' column."
   ]
  },
  {
   "cell_type": "code",
   "execution_count": 37,
   "id": "772e2d5b",
   "metadata": {},
   "outputs": [],
   "source": [
    "import pandas as pd\n",
    "\n",
    "def extract_username(df):\n",
    "    # Split the email address in the 'Email' column into username and domain using the '@' symbol\n",
    "    df['Username'] = df['Email'].apply(lambda x: x.split('@')[0])\n",
    "    return df"
   ]
  },
  {
   "cell_type": "code",
   "execution_count": 40,
   "id": "0412a30c",
   "metadata": {},
   "outputs": [],
   "source": [
    "data = {'Name': ['John', 'Alice', 'Bob', 'Salman', 'Shaikh'],\n",
    "        'Values': [10, 20, 30, 40, 50],\n",
    "        'Email': ['john.doe@example.com', 'alice23@gmail.com', 'bob4323@gmail.com','salman89743@gmail.com','shaikh42343@gmail.com']}\n",
    "df3 = pd.DataFrame(data)"
   ]
  },
  {
   "cell_type": "code",
   "execution_count": 41,
   "id": "80613984",
   "metadata": {},
   "outputs": [
    {
     "data": {
      "text/html": [
       "<div>\n",
       "<style scoped>\n",
       "    .dataframe tbody tr th:only-of-type {\n",
       "        vertical-align: middle;\n",
       "    }\n",
       "\n",
       "    .dataframe tbody tr th {\n",
       "        vertical-align: top;\n",
       "    }\n",
       "\n",
       "    .dataframe thead th {\n",
       "        text-align: right;\n",
       "    }\n",
       "</style>\n",
       "<table border=\"1\" class=\"dataframe\">\n",
       "  <thead>\n",
       "    <tr style=\"text-align: right;\">\n",
       "      <th></th>\n",
       "      <th>Name</th>\n",
       "      <th>Values</th>\n",
       "      <th>Email</th>\n",
       "      <th>Username</th>\n",
       "    </tr>\n",
       "  </thead>\n",
       "  <tbody>\n",
       "    <tr>\n",
       "      <th>0</th>\n",
       "      <td>John</td>\n",
       "      <td>10</td>\n",
       "      <td>john.doe@example.com</td>\n",
       "      <td>john.doe</td>\n",
       "    </tr>\n",
       "    <tr>\n",
       "      <th>1</th>\n",
       "      <td>Alice</td>\n",
       "      <td>20</td>\n",
       "      <td>alice23@gmail.com</td>\n",
       "      <td>alice23</td>\n",
       "    </tr>\n",
       "    <tr>\n",
       "      <th>2</th>\n",
       "      <td>Bob</td>\n",
       "      <td>30</td>\n",
       "      <td>bob4323@gmail.com</td>\n",
       "      <td>bob4323</td>\n",
       "    </tr>\n",
       "    <tr>\n",
       "      <th>3</th>\n",
       "      <td>Salman</td>\n",
       "      <td>40</td>\n",
       "      <td>salman89743@gmail.com</td>\n",
       "      <td>salman89743</td>\n",
       "    </tr>\n",
       "    <tr>\n",
       "      <th>4</th>\n",
       "      <td>Shaikh</td>\n",
       "      <td>50</td>\n",
       "      <td>shaikh42343@gmail.com</td>\n",
       "      <td>shaikh42343</td>\n",
       "    </tr>\n",
       "  </tbody>\n",
       "</table>\n",
       "</div>"
      ],
      "text/plain": [
       "     Name  Values                  Email     Username\n",
       "0    John      10   john.doe@example.com     john.doe\n",
       "1   Alice      20      alice23@gmail.com      alice23\n",
       "2     Bob      30      bob4323@gmail.com      bob4323\n",
       "3  Salman      40  salman89743@gmail.com  salman89743\n",
       "4  Shaikh      50  shaikh42343@gmail.com  shaikh42343"
      ]
     },
     "execution_count": 41,
     "metadata": {},
     "output_type": "execute_result"
    }
   ],
   "source": [
    "extract_username(df3)"
   ]
  },
  {
   "cell_type": "markdown",
   "id": "0a711782",
   "metadata": {},
   "source": [
    "#### Q8. You have a Pandas DataFrame df with columns 'A', 'B', and 'C'. Write a Python function that selects all rows where the value in column 'A' is greater than 5 and the value in column 'B' is less than 10. The function should return a new DataFrame that contains only the selected rows.\n",
    "#### For example, if df contains the following values:\n",
    "#### A B C\n",
    "#### 0 3 5 1\n",
    "#### 1 8 2 7\n",
    "#### 2 6 9 4\n",
    "#### 3 2 3 5\n",
    "#### 4 9 1 2\n",
    "\n",
    "#### Your function should select the following rows: A B C\n",
    "#### 1 8 2 7\n",
    "#### 4 9 1 2\n",
    "#### The function should return a new DataFrame that contains only the selected rows."
   ]
  },
  {
   "cell_type": "code",
   "execution_count": 42,
   "id": "aecf59ab",
   "metadata": {},
   "outputs": [],
   "source": [
    "import pandas as pd\n",
    "\n",
    "def select_rows(df):\n",
    "\n",
    "    # Use boolean indexing to select rows where the value in column 'A' is greater than 5 and the value in column 'B' is less than 10\n",
    "    selected_rows = df[(df['A'] > 5) & (df['B'] < 10)]\n",
    "    return selected_rows"
   ]
  },
  {
   "cell_type": "code",
   "execution_count": 43,
   "id": "601228d1",
   "metadata": {},
   "outputs": [],
   "source": [
    "df5 = pd.DataFrame({'A': [3,8,6,2,9], 'B': [5,2,9,3,1], 'C': [1,7,4,5,2]})"
   ]
  },
  {
   "cell_type": "code",
   "execution_count": 45,
   "id": "5ccb872f",
   "metadata": {},
   "outputs": [],
   "source": [
    "df_new = select_rows(df5)"
   ]
  },
  {
   "cell_type": "code",
   "execution_count": 46,
   "id": "f4dd965e",
   "metadata": {},
   "outputs": [
    {
     "data": {
      "text/html": [
       "<div>\n",
       "<style scoped>\n",
       "    .dataframe tbody tr th:only-of-type {\n",
       "        vertical-align: middle;\n",
       "    }\n",
       "\n",
       "    .dataframe tbody tr th {\n",
       "        vertical-align: top;\n",
       "    }\n",
       "\n",
       "    .dataframe thead th {\n",
       "        text-align: right;\n",
       "    }\n",
       "</style>\n",
       "<table border=\"1\" class=\"dataframe\">\n",
       "  <thead>\n",
       "    <tr style=\"text-align: right;\">\n",
       "      <th></th>\n",
       "      <th>A</th>\n",
       "      <th>B</th>\n",
       "      <th>C</th>\n",
       "    </tr>\n",
       "  </thead>\n",
       "  <tbody>\n",
       "    <tr>\n",
       "      <th>1</th>\n",
       "      <td>8</td>\n",
       "      <td>2</td>\n",
       "      <td>7</td>\n",
       "    </tr>\n",
       "    <tr>\n",
       "      <th>2</th>\n",
       "      <td>6</td>\n",
       "      <td>9</td>\n",
       "      <td>4</td>\n",
       "    </tr>\n",
       "    <tr>\n",
       "      <th>4</th>\n",
       "      <td>9</td>\n",
       "      <td>1</td>\n",
       "      <td>2</td>\n",
       "    </tr>\n",
       "  </tbody>\n",
       "</table>\n",
       "</div>"
      ],
      "text/plain": [
       "   A  B  C\n",
       "1  8  2  7\n",
       "2  6  9  4\n",
       "4  9  1  2"
      ]
     },
     "execution_count": 46,
     "metadata": {},
     "output_type": "execute_result"
    }
   ],
   "source": [
    "df_new"
   ]
  },
  {
   "cell_type": "markdown",
   "id": "38c33400",
   "metadata": {},
   "source": [
    "### Q9. Given a Pandas DataFrame df with a column 'Values', write a Python function to calculate the mean, median, and standard deviation of the values in the 'Values' column."
   ]
  },
  {
   "cell_type": "code",
   "execution_count": 47,
   "id": "9ebb6db6",
   "metadata": {},
   "outputs": [],
   "source": [
    "data = {'Name': ['John', 'Alice', 'Bob', 'Salman', 'Shaikh'],\n",
    "        'Values': [10, 20, 30, 40, 50],\n",
    "        'Email': ['john.doe@example.com', 'alice23@gmail.com', 'bob4323@gmail.com','salman89743@gmail.com','shaikh42343@gmail.com']}"
   ]
  },
  {
   "cell_type": "code",
   "execution_count": 75,
   "id": "caaae100",
   "metadata": {},
   "outputs": [],
   "source": [
    "import pandas as pd\n",
    "\n",
    "def calculate_statistics(df):\n",
    "\n",
    "    values = df['Values']\n",
    "    mean = values.mean()\n",
    "    median = values.median()\n",
    "    std = values.std()\n",
    "    return mean, median, std"
   ]
  },
  {
   "cell_type": "code",
   "execution_count": 77,
   "id": "6db4933d",
   "metadata": {},
   "outputs": [],
   "source": [
    "df6 = pd.DataFrame(data)\n",
    "mean, median, std = calculate_statistics(df6)"
   ]
  },
  {
   "cell_type": "code",
   "execution_count": 78,
   "id": "d35e76fd",
   "metadata": {},
   "outputs": [
    {
     "name": "stdout",
     "output_type": "stream",
     "text": [
      "Mean: 30.0\n",
      "Median: 30.0\n",
      "Standard Deviation: 15.811388300841896\n"
     ]
    }
   ],
   "source": [
    "print(\"Mean:\",mean)\n",
    "print(\"Median:\",median)\n",
    "print(\"Standard Deviation:\",std)"
   ]
  },
  {
   "cell_type": "markdown",
   "id": "e26deef0",
   "metadata": {},
   "source": [
    "### Q10. Given a Pandas DataFrame df with a column 'Sales' and a column 'Date', write a Python function to create a new column 'MovingAverage' that contains the moving average of the sales for the past 7 days for each row in the DataFrame. The moving average should be calculated using a window of size 7 and should include the current day."
   ]
  },
  {
   "cell_type": "code",
   "execution_count": 80,
   "id": "9b02e761",
   "metadata": {},
   "outputs": [],
   "source": [
    "import pandas as pd\n",
    "\n",
    "def calculate_moving_average(df):\n",
    "    \n",
    "    # Sort the DataFrame by date\n",
    "    df = df.sort_values('Date')\n",
    "\n",
    "    # Calculate the moving average using a rolling window of size 7\n",
    "    ma = df['Sales'].rolling(window=7, min_periods=1).mean()\n",
    "\n",
    "    # Create a new DataFrame with the original columns and the new 'MovingAverage' column\n",
    "    new_df = pd.DataFrame({'Date': df['Date'], 'Sales': df['Sales'], 'MovingAverage': ma})\n",
    "\n",
    "    return new_df"
   ]
  },
  {
   "cell_type": "code",
   "execution_count": 82,
   "id": "489ca47b",
   "metadata": {},
   "outputs": [],
   "source": [
    "df_order = pd.read_excel('OrdersData.xlsx')"
   ]
  },
  {
   "cell_type": "code",
   "execution_count": 84,
   "id": "725ab299",
   "metadata": {},
   "outputs": [],
   "source": [
    "df_order_new = calculate_moving_average(df_order)"
   ]
  },
  {
   "cell_type": "code",
   "execution_count": 85,
   "id": "fc8cd8be",
   "metadata": {},
   "outputs": [
    {
     "data": {
      "text/html": [
       "<div>\n",
       "<style scoped>\n",
       "    .dataframe tbody tr th:only-of-type {\n",
       "        vertical-align: middle;\n",
       "    }\n",
       "\n",
       "    .dataframe tbody tr th {\n",
       "        vertical-align: top;\n",
       "    }\n",
       "\n",
       "    .dataframe thead th {\n",
       "        text-align: right;\n",
       "    }\n",
       "</style>\n",
       "<table border=\"1\" class=\"dataframe\">\n",
       "  <thead>\n",
       "    <tr style=\"text-align: right;\">\n",
       "      <th></th>\n",
       "      <th>Date</th>\n",
       "      <th>Sales</th>\n",
       "      <th>MovingAverage</th>\n",
       "    </tr>\n",
       "  </thead>\n",
       "  <tbody>\n",
       "    <tr>\n",
       "      <th>7980</th>\n",
       "      <td>2014-01-03</td>\n",
       "      <td>16.448</td>\n",
       "      <td>16.448000</td>\n",
       "    </tr>\n",
       "    <tr>\n",
       "      <th>739</th>\n",
       "      <td>2014-01-04</td>\n",
       "      <td>11.784</td>\n",
       "      <td>14.116000</td>\n",
       "    </tr>\n",
       "    <tr>\n",
       "      <th>740</th>\n",
       "      <td>2014-01-04</td>\n",
       "      <td>272.736</td>\n",
       "      <td>100.322667</td>\n",
       "    </tr>\n",
       "    <tr>\n",
       "      <th>741</th>\n",
       "      <td>2014-01-04</td>\n",
       "      <td>3.540</td>\n",
       "      <td>76.127000</td>\n",
       "    </tr>\n",
       "    <tr>\n",
       "      <th>1759</th>\n",
       "      <td>2014-01-05</td>\n",
       "      <td>19.536</td>\n",
       "      <td>64.808800</td>\n",
       "    </tr>\n",
       "    <tr>\n",
       "      <th>...</th>\n",
       "      <td>...</td>\n",
       "      <td>...</td>\n",
       "      <td>...</td>\n",
       "    </tr>\n",
       "    <tr>\n",
       "      <th>5091</th>\n",
       "      <td>2017-12-30</td>\n",
       "      <td>3.024</td>\n",
       "      <td>110.107143</td>\n",
       "    </tr>\n",
       "    <tr>\n",
       "      <th>908</th>\n",
       "      <td>2017-12-30</td>\n",
       "      <td>52.776</td>\n",
       "      <td>114.846571</td>\n",
       "    </tr>\n",
       "    <tr>\n",
       "      <th>907</th>\n",
       "      <td>2017-12-30</td>\n",
       "      <td>90.930</td>\n",
       "      <td>84.640000</td>\n",
       "    </tr>\n",
       "    <tr>\n",
       "      <th>1296</th>\n",
       "      <td>2017-12-30</td>\n",
       "      <td>13.904</td>\n",
       "      <td>56.669143</td>\n",
       "    </tr>\n",
       "    <tr>\n",
       "      <th>906</th>\n",
       "      <td>2017-12-30</td>\n",
       "      <td>323.136</td>\n",
       "      <td>101.970000</td>\n",
       "    </tr>\n",
       "  </tbody>\n",
       "</table>\n",
       "<p>9994 rows × 3 columns</p>\n",
       "</div>"
      ],
      "text/plain": [
       "           Date    Sales  MovingAverage\n",
       "7980 2014-01-03   16.448      16.448000\n",
       "739  2014-01-04   11.784      14.116000\n",
       "740  2014-01-04  272.736     100.322667\n",
       "741  2014-01-04    3.540      76.127000\n",
       "1759 2014-01-05   19.536      64.808800\n",
       "...         ...      ...            ...\n",
       "5091 2017-12-30    3.024     110.107143\n",
       "908  2017-12-30   52.776     114.846571\n",
       "907  2017-12-30   90.930      84.640000\n",
       "1296 2017-12-30   13.904      56.669143\n",
       "906  2017-12-30  323.136     101.970000\n",
       "\n",
       "[9994 rows x 3 columns]"
      ]
     },
     "execution_count": 85,
     "metadata": {},
     "output_type": "execute_result"
    }
   ],
   "source": [
    "df_order_new"
   ]
  },
  {
   "cell_type": "markdown",
   "id": "19131f03",
   "metadata": {},
   "source": [
    "### Q11. You have a Pandas DataFrame df with a column 'Date'. Write a Python function that creates a newcolumn 'Weekday' in the DataFrame. The 'Weekday' column should contain the weekday name (e.g. Monday, Tuesday) corresponding to each date in the 'Date' column. For example, if df contains the following values:\n",
    "#### Date\n",
    "#### 0 2023-01-01\n",
    "#### 1 2023-01-02\n",
    "#### 2 2023-01-03\n",
    "#### 3 2023-01-04\n",
    "#### 4 2023-01-05\n",
    "#### Your function should create the following DataFrame:\n",
    "\n",
    "#### Date Weekday\n",
    "#### 0 2023-01-01 Sunday\n",
    "#### 1 2023-01-02 Monday\n",
    "#### 2 2023-01-03 Tuesday\n",
    "#### 3 2023-01-04 Wednesday\n",
    "#### 4 2023-01-05 Thursday\n",
    "#### The function should return the modified DataFrame."
   ]
  },
  {
   "cell_type": "code",
   "execution_count": 86,
   "id": "72479e33",
   "metadata": {},
   "outputs": [],
   "source": [
    "import pandas as pd\n",
    "\n",
    "def add_weekday_column(df):\n",
    "    # Convert 'Date' column to datetime if necessary\n",
    "    if not pd.api.types.is_datetime64_any_dtype(df['Date']):\n",
    "        df['Date'] = pd.to_datetime(df['Date'])\n",
    "    \n",
    "    # Extract weekday name from 'Date' column and create new column 'Weekday'\n",
    "    df['Weekday'] = df['Date'].dt.day_name()\n",
    "    \n",
    "    return df"
   ]
  },
  {
   "cell_type": "code",
   "execution_count": 89,
   "id": "1eaa0fc7",
   "metadata": {},
   "outputs": [
    {
     "name": "stdout",
     "output_type": "stream",
     "text": [
      "        Date    Weekday\n",
      "0 2023-01-01     Sunday\n",
      "1 2023-01-02     Monday\n",
      "2 2023-01-03    Tuesday\n",
      "3 2023-01-04  Wednesday\n",
      "4 2023-01-05   Thursday\n"
     ]
    }
   ],
   "source": [
    "df = pd.DataFrame({'Date': ['2023-01-01', '2023-01-02', '2023-01-03', '2023-01-04', '2023-01-05']})\n",
    "df = add_weekday_column(df)\n",
    "print(df)"
   ]
  },
  {
   "cell_type": "markdown",
   "id": "3f8c19a4",
   "metadata": {},
   "source": [
    "### Q12. Given a Pandas DataFrame df with a column 'Date' that contains timestamps, write a Python function to select all rows where the date is between '2023-01-01' and '2023-01-31'."
   ]
  },
  {
   "cell_type": "code",
   "execution_count": 90,
   "id": "09282ab8",
   "metadata": {},
   "outputs": [],
   "source": [
    "import pandas as pd\n",
    "\n",
    "def select_rows_between_dates(df):\n",
    "    # Convert 'Date' column to datetime\n",
    "    df['Date'] = pd.to_datetime(df['Date'])\n",
    "\n",
    "    # Select rows between '2023-01-01' and '2023-01-31'\n",
    "    selected_rows = df.loc[(df['Date'] >= '2023-01-01') & (df['Date'] <= '2023-01-31')]\n",
    "\n",
    "    return selected_rows"
   ]
  },
  {
   "cell_type": "code",
   "execution_count": 98,
   "id": "96723b66",
   "metadata": {},
   "outputs": [
    {
     "name": "stdout",
     "output_type": "stream",
     "text": [
      "     Name  Values                  Email        Date\n",
      "0    John      10   john.doe@example.com  2023-01-01\n",
      "1   Alice      20      alice23@gmail.com  2021-01-02\n",
      "2     Bob      30      bob4323@gmail.com  2023-01-03\n",
      "3  Salman      40  salman89743@gmail.com  2023-01-04\n",
      "4  Shaikh      50  shaikh42343@gmail.com  2022-01-05\n",
      "\n",
      "########################__After Running Function__####################\n",
      "\n",
      "     Name  Values                  Email       Date\n",
      "0    John      10   john.doe@example.com 2023-01-01\n",
      "2     Bob      30      bob4323@gmail.com 2023-01-03\n",
      "3  Salman      40  salman89743@gmail.com 2023-01-04\n"
     ]
    }
   ],
   "source": [
    "data = {'Name': ['John', 'Alice', 'Bob', 'Salman', 'Shaikh'],\n",
    "        'Values': [10, 20, 30, 40, 50],\n",
    "        'Email': ['john.doe@example.com', 'alice23@gmail.com', 'bob4323@gmail.com','salman89743@gmail.com','shaikh42343@gmail.com'],\n",
    "        'Date': ['2023-01-01', '2021-01-02', '2023-01-03', '2023-01-04', '2022-01-05']\n",
    "       }\n",
    "dfdate = pd.DataFrame(data)\n",
    "print(dfdate)\n",
    "print(\"\\n########################__After Running Function__####################\\n\")\n",
    "df_rows = select_rows_between_dates(dfdate)\n",
    "print(df_rows)"
   ]
  },
  {
   "cell_type": "markdown",
   "id": "ccf095f5",
   "metadata": {},
   "source": [
    "### Q13. To use the basic functions of pandas, what is the first and foremost necessary library that needs to be imported?"
   ]
  },
  {
   "cell_type": "markdown",
   "id": "e498f5de",
   "metadata": {},
   "source": [
    "#### The first and foremost necessary library that needs to be imported to use the basic functions of pandas is the pandas library itself. The commonly used way to import the pandas library is:"
   ]
  },
  {
   "cell_type": "code",
   "execution_count": 99,
   "id": "bb710d36",
   "metadata": {},
   "outputs": [],
   "source": [
    "import pandas as pd"
   ]
  },
  {
   "cell_type": "markdown",
   "id": "286fa4f1",
   "metadata": {},
   "source": [
    "###### The \"pd\" alias is often used in the pandas community as a shorthand for \"pandas.\" By importing the pandas library, you gain access to all of the basic functions and data structures that pandas provides, such as Series, DataFrame, and read_csv()."
   ]
  },
  {
   "cell_type": "code",
   "execution_count": null,
   "id": "cace15e4",
   "metadata": {},
   "outputs": [],
   "source": []
  }
 ],
 "metadata": {
  "kernelspec": {
   "display_name": "Python 3 (ipykernel)",
   "language": "python",
   "name": "python3"
  },
  "language_info": {
   "codemirror_mode": {
    "name": "ipython",
    "version": 3
   },
   "file_extension": ".py",
   "mimetype": "text/x-python",
   "name": "python",
   "nbconvert_exporter": "python",
   "pygments_lexer": "ipython3",
   "version": "3.9.13"
  }
 },
 "nbformat": 4,
 "nbformat_minor": 5
}
